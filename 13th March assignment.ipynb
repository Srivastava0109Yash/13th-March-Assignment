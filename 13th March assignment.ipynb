{
 "cells": [
  {
   "cell_type": "markdown",
   "id": "970c2e17",
   "metadata": {},
   "source": [
    "### Q1. Explain the assumptions required to use ANOVA and provide examples of violations that could impact the validity of the results."
   ]
  },
  {
   "cell_type": "markdown",
   "id": "9256bbae",
   "metadata": {},
   "source": [
    "ANOVA (Analysis of Variance) is a statistical technique used to determine if there are significant differences between the means of three or more groups. The ANOVA method assumes the following:\n",
    "\n",
    "__Independence__: The observations within each group must be independent of each other.\n",
    "\n",
    "__Normality__: The data within each group must follow a normal distribution.\n",
    "\n",
    "__Homogeneity of variance__: The variances of the groups must be equal.\n",
    "\n",
    "If any of these assumptions are violated, the validity of the ANOVA results can be impacted.\n",
    "\n",
    "#### Examples of violations include:\n",
    "\n",
    "__Non-independence__: If observations within a group are not independent, it can lead to an inflated Type I error rate (i.e., the probability of rejecting the null hypothesis when it is true). For example, if a study measures the same outcome multiple times on the same individual, it violates the independence assumption.\n",
    "\n",
    "__Non-normality__: If the data within each group is not normally distributed, it can lead to an increased risk of Type I or Type II errors. For example, if a study measures the time it takes for participants to complete a task and the data is skewed, it violates the normality assumption.\n",
    "\n",
    "__Non-homogeneity of variance1__: If the variances of the groups are not equal, it can lead to an increased risk of Type I or Type II errors. For example, if a study compares the test scores of students from different schools and the variance of scores is much larger in one school than the others, it violates the homogeneity of variance assumption."
   ]
  },
  {
   "cell_type": "code",
   "execution_count": null,
   "id": "60428bef",
   "metadata": {},
   "outputs": [],
   "source": []
  },
  {
   "cell_type": "markdown",
   "id": "a5a0cf33",
   "metadata": {},
   "source": [
    "### Q2. What are the three types of ANOVA, and in what situations would each be used?"
   ]
  },
  {
   "cell_type": "markdown",
   "id": "ddb23e56",
   "metadata": {},
   "source": [
    "__One-way ANOVA__: One-way ANOVA is used to analyze the differences between three or more groups when there is only one independent variable. For example, a study may use one-way ANOVA to compare the mean scores of participants from different age groups (e.g., 20-30, 31-40, and 41-50 years old) on a particular task.\n",
    "\n",
    "__Two-way ANOVA__: Two-way ANOVA is used to analyze the differences between three or more groups when there are two independent variables. For example, a study may use two-way ANOVA to examine the effects of both gender and age on participants' scores on a particular task.\n",
    "\n",
    "__Repeated measures ANOVA__: Repeated measures ANOVA is used to analyze the differences between three or more groups when the same participants are tested multiple times under different conditions. For example, a study may use repeated measures ANOVA to compare the mean scores of participants on a particular task when they are tested under three different conditions (e.g., with music, without music, and with distracting noise)."
   ]
  },
  {
   "cell_type": "code",
   "execution_count": null,
   "id": "6a9cbad9",
   "metadata": {},
   "outputs": [],
   "source": []
  },
  {
   "cell_type": "markdown",
   "id": "8e5bf164",
   "metadata": {},
   "source": [
    "### Q3. What is the partitioning of variance in ANOVA, and why is it important to understand this concept?"
   ]
  },
  {
   "cell_type": "markdown",
   "id": "086d331f",
   "metadata": {},
   "source": [
    "The partitioning of variance in ANOVA refers to the process of breaking down the total variation in a dataset into different components that can be attributed to different sources of variation. The variance is partitioned into two components: the between-group variance and the within-group variance.\n",
    "\n",
    "The between-group variance measures the amount of variation between the means of different groups being compared. It is calculated by taking the sum of the squared differences between each group mean and the overall mean, and then dividing it by the degrees of freedom for between groups.\n",
    "\n",
    "The within-group variance measures the amount of variation within each group. It is calculated by taking the sum of the squared differences between each individual data point and its respective group mean, and then dividing it by the degrees of freedom for within groups.\n",
    "\n",
    "The total variance in the dataset is the sum of the between-group variance and the within-group variance.\n",
    "\n",
    "Understanding the partitioning of variance is important because it allows researchers to determine the relative contribution of different sources of variation to the overall variation in the dataset. This information is used to assess the significance of the differences between group means and to make inferences about the population based on the sample data."
   ]
  },
  {
   "cell_type": "code",
   "execution_count": null,
   "id": "0a1a6661",
   "metadata": {},
   "outputs": [],
   "source": []
  },
  {
   "cell_type": "markdown",
   "id": "31baba0b",
   "metadata": {},
   "source": [
    "### Q5. In a two-way ANOVA, how would you calculate the main effects and interaction effects using Python?"
   ]
  },
  {
   "cell_type": "markdown",
   "id": "de03c170",
   "metadata": {},
   "source": [
    "To calculate the main effects and interaction effects in a two-way ANOVA using Python, you can use the statsmodels library."
   ]
  },
  {
   "cell_type": "code",
   "execution_count": null,
   "id": "95c5c70a",
   "metadata": {},
   "outputs": [],
   "source": [
    "import pandas as pd\n",
    "import statsmodels.api as sm\n",
    "from statsmodels.formula.api import ols\n",
    "\n",
    "# Load data into a pandas dataframe\n",
    "data = pd.read_csv('data.csv')\n",
    "\n",
    "# Create the ANOVA model with interaction term\n",
    "model = ols('dependent_var ~ independent_var_1 * independent_var_2', data=data).fit()\n",
    "\n",
    "# Print ANOVA table with main effects and interaction\n",
    "sm.stats.anova_lm(model, typ=2)"
   ]
  },
  {
   "cell_type": "markdown",
   "id": "995e0891",
   "metadata": {},
   "source": [
    "In this example code, the dependent_var is the variable being predicted and independent_var_1 and independent_var_2 are the two independent variables being studied. The typ=2 argument specifies that a two-way ANOVA is being performed.\n",
    "\n",
    "The anova_lm() function from the statsmodels library is used to print the ANOVA table. This table contains information about the main effects of each independent variable and the interaction effect between them."
   ]
  },
  {
   "cell_type": "code",
   "execution_count": null,
   "id": "cd831214",
   "metadata": {},
   "outputs": [],
   "source": []
  },
  {
   "cell_type": "markdown",
   "id": "7710a32e",
   "metadata": {},
   "source": [
    "### Q6. Suppose you conducted a one-way ANOVA and obtained an F-statistic of 5.23 and a p-value of 0.02. What can you conclude about the differences between the groups, and how would you interpret these results?"
   ]
  },
  {
   "cell_type": "markdown",
   "id": "c85fa276",
   "metadata": {},
   "source": [
    "If you conducted a one-way ANOVA and obtained an F-statistic of 5.23 and a p-value of 0.02, you can conclude that there is a statistically significant difference between the means of at least two of the groups being compared.\n",
    "\n",
    "The F-statistic of 5.23 tells you the ratio of between-group variance to within-group variance. The larger the F-statistic, the greater the difference between the group means relative to the variation within the groups.\n",
    "\n",
    "The p-value of 0.02 indicates that the probability of observing an F-statistic as extreme or more extreme than 5.23 under the null hypothesis (i.e., no difference between the group means) is 0.02. Since the p-value is less than the conventional threshold of 0.05, you can reject the null hypothesis and conclude that there is a statistically significant difference between the means of at least two of the groups.\n",
    "\n",
    "However, the ANOVA does not tell you which specific group means are different from each other. To determine this, you need to conduct post-hoc tests such as Tukey's HSD or Bonferroni tests. These tests can identify which group means are significantly different from each other and provide more detailed information about the differences between the groups.\n",
    "\n",
    "In summary, if you obtained an F-statistic of 5.23 and a p-value of 0.02 in a one-way ANOVA, you can conclude that there is a statistically significant difference between the means of at least two of the groups being compared. However, you need to conduct post-hoc tests to determine which specific group means are different from each other.\n"
   ]
  },
  {
   "cell_type": "code",
   "execution_count": null,
   "id": "77c48bca",
   "metadata": {},
   "outputs": [],
   "source": []
  },
  {
   "cell_type": "markdown",
   "id": "08653706",
   "metadata": {},
   "source": [
    "### Q7. In a repeated measures ANOVA, how would you handle missing data, and what are the potential consequences of using different methods to handle missing data?"
   ]
  },
  {
   "cell_type": "markdown",
   "id": "bed2897a",
   "metadata": {},
   "source": [
    "In a repeated measures ANOVA, missing data can occur when one or more participants have incomplete data for one or more of the repeated measures. There are several ways to handle missing data in a repeated measures ANOVA, including listwise deletion, pairwise deletion, mean imputation, and multiple imputation. Each method has its advantages and disadvantages, and the choice of method can affect the validity of the results.\n",
    "\n",
    "Listwise deletion involves removing all participants who have missing data on any of the repeated measures. This method is simple to implement but can result in a loss of power and biased estimates, especially if the missing data are not completely at random. Listwise deletion may also introduce bias if the missing data are related to the outcome variable or the independent variables.\n",
    "\n",
    "Pairwise deletion involves including only the available data for each participant, so different participants may have different numbers of observations included in the analysis. This method can also result in a loss of power and biased estimates, and can also introduce bias if the missing data are not completely at random.\n",
    "\n",
    "Mean imputation involves replacing missing values with the mean value of that variable for the available participants. This method can lead to biased estimates of the means and standard errors, and can also increase the risk of type I error if the missing data are not completely at random."
   ]
  },
  {
   "cell_type": "markdown",
   "id": "e8923a01",
   "metadata": {},
   "source": [
    "### Q8. What are some common post-hoc tests used after ANOVA, and when would you use each one? Provide an example of a situation where a post-hoc test might be necessary."
   ]
  },
  {
   "cell_type": "markdown",
   "id": "050b346d",
   "metadata": {},
   "source": [
    "__Tukey's Honestly Significant Difference (HSD) test__: This test is used to compare all possible pairwise differences between group means. It is a conservative test that controls for the familywise error rate, which is the probability of making at least one type I error across all pairwise comparisons.\n",
    "\n",
    "__Bonferroni correction__: This test adjusts the significance level for each comparison to control for the familywise error rate. The significance level for each comparison is divided by the number of comparisons being made.\n",
    "\n",
    "__Scheffe's test__: This test is used to make simultaneous comparisons among all possible combinations of group means. It is a more conservative test that controls for the overall error rate, which is the probability of making at least one type I error across all possible comparisons.\n",
    "\n",
    "__Games-Howell test__: This test is used when the assumption of equal variances among groups is violated. It is a modified version of the Tukey's HSD test that does not assume equal variances.\n",
    "\n",
    "Post-hoc tests are necessary when the ANOVA indicates a significant difference between at least two groups, but does not identify which specific groups are different. For example, suppose a researcher conducted an ANOVA to compare the effectiveness of three different treatments on reducing symptoms of depression. The ANOVA results showed a significant difference between the three treatments. However, to determine which specific treatments were significantly different from each other, a post-hoc test such as Tukey's HSD or Bonferroni test would be necessary. These tests would identify which specific pairwise comparisons were statistically significant and provide more detailed information about the differences between the treatments."
   ]
  },
  {
   "cell_type": "markdown",
   "id": "b5dc841a",
   "metadata": {},
   "source": [
    "### Q9. A researcher wants to compare the mean weight loss of three diets: A, B, and C. They collect data from 50 participants who were randomly assigned to one of the diets. Conduct a one-way ANOVA using Python to determine if there are any significant differences between the mean weight loss of the three diets. Report the F-statistic and p-value, and interpret the results."
   ]
  },
  {
   "cell_type": "code",
   "execution_count": 5,
   "id": "50cc1193",
   "metadata": {},
   "outputs": [
    {
     "name": "stdout",
     "output_type": "stream",
     "text": [
      "F-statistic: 60.78240455299976\n",
      "p-value: 3.034607905495188e-17\n"
     ]
    }
   ],
   "source": [
    "import numpy as np\n",
    "from scipy.stats import f_oneway\n",
    "\n",
    "# create the data\n",
    "diet_A = [1.2, 0.8, 2.0, 1.5, 2.2, 1.4, 1.8, 1.3, 1.0, 1.5,\n",
    "          1.9, 1.6, 1.8, 2.2, 1.1, 1.6, 1.9, 1.2, 2.0, 1.7,\n",
    "          1.3, 1.8, 1.2, 1.6, 2.1, 1.7, 1.5, 1.9, 1.3, 1.7]\n",
    "diet_B = [0.7, 0.5, 1.2, 1.0, 0.9, 1.4, 1.1, 0.8, 1.3, 0.6,\n",
    "          0.9, 0.7, 1.1, 1.2, 0.5, 0.8, 0.7, 1.0, 1.4, 1.1,\n",
    "          0.8, 1.0, 0.6, 0.9, 1.1, 1.2, 1.0, 0.7, 1.2, 1.1]\n",
    "diet_C = [0.9, 0.6, 1.1, 0.7, 1.2, 1.0, 0.8, 0.5, 0.9, 0.7,\n",
    "          1.1, 0.6, 0.8, 1.2, 0.7, 0.5, 1.1, 0.8, 0.9, 1.0,\n",
    "          0.7, 1.1, 0.5, 0.8, 1.2, 0.9, 0.6, 1.0, 0.7, 0.8]\n",
    "\n",
    "# conduct one-way ANOVA\n",
    "f_statistic, p_value = f_oneway(diet_A, diet_B, diet_C)\n",
    "\n",
    "# print results\n",
    "print(\"F-statistic:\", f_statistic)\n",
    "print(\"p-value:\", p_value)\n"
   ]
  },
  {
   "cell_type": "markdown",
   "id": "af8cb9f2",
   "metadata": {},
   "source": [
    "### Q10. A company wants to know if there are any significant differences in the average time it takes to complete a task using three different software programs: Program A, Program B, and Program C. They randomly assign 30 employees to one of the programs and record the time it takes each employee to complete the task. Conduct a two-way ANOVA using Python to determine if there are any main effects or interaction effects between the software programs and employee experience level (novice vs. experienced). Report the F-statistics and p-values, and interpret the results."
   ]
  },
  {
   "cell_type": "code",
   "execution_count": 4,
   "id": "1c0e7b04",
   "metadata": {},
   "outputs": [
    {
     "name": "stdout",
     "output_type": "stream",
     "text": [
      "                        sum_sq     df         F    PR(>F)\n",
      "program              15.123362    2.0  2.239716  0.109550\n",
      "experience            1.381961    1.0  0.409327  0.523153\n",
      "program:experience    8.066272    2.0  1.194586  0.305300\n",
      "Residual            587.455155  174.0       NaN       NaN\n"
     ]
    }
   ],
   "source": [
    "import pandas as pd\n",
    "import numpy as np\n",
    "from statsmodels.formula.api import ols\n",
    "from statsmodels.stats.anova import anova_lm\n",
    "\n",
    "# create data for the three software programs and two experience levels\n",
    "programs = ['A', 'B', 'C']\n",
    "experience_levels = ['novice', 'experienced']\n",
    "n = 30  # number of employees per program-experience combination\n",
    "data = pd.DataFrame({\n",
    "    'program': np.repeat(programs, n*len(experience_levels)),\n",
    "    'experience': np.tile(np.repeat(experience_levels, n), len(programs)),\n",
    "    'time': np.random.normal(loc=10, scale=2, size=n*len(programs)*len(experience_levels))\n",
    "})\n",
    "\n",
    "# conduct two-way ANOVA\n",
    "model = ols('time ~ program + experience + program*experience', data=data).fit()\n",
    "table = anova_lm(model, typ=2)\n",
    "\n",
    "# print results\n",
    "print(table)\n"
   ]
  },
  {
   "cell_type": "markdown",
   "id": "f8751a41",
   "metadata": {},
   "source": [
    "### Q11. An educational researcher is interested in whether a new teaching method improves student testscores. They randomly assign 100 students to either the control group (traditional teaching method) or the experimental group (new teaching method) and administer a test at the end of the semester. Conduct a two-sample t-test using Python to determine if there are any significant differences in test scores between the two groups. If the results are significant, follow up with a post-hoc test to determine which group(s) differ significantly from each other."
   ]
  },
  {
   "cell_type": "code",
   "execution_count": 6,
   "id": "204a213c",
   "metadata": {},
   "outputs": [
    {
     "name": "stdout",
     "output_type": "stream",
     "text": [
      "t-statistic: -3.1142778485474385\n",
      "p-value: 0.0021173873045725548\n"
     ]
    }
   ],
   "source": [
    "import numpy as np\n",
    "from scipy.stats import ttest_ind\n",
    "\n",
    "# generate some sample data (replace this with actual data)\n",
    "control_scores = np.random.normal(70, 10, size=100)\n",
    "experimental_scores = np.random.normal(75, 10, size=100)\n",
    "\n",
    "# conduct two-sample t-test\n",
    "t_stat, p_val = ttest_ind(control_scores, experimental_scores)\n",
    "print(\"t-statistic:\", t_stat)\n",
    "print(\"p-value:\", p_val)\n"
   ]
  },
  {
   "cell_type": "markdown",
   "id": "9827bb39",
   "metadata": {},
   "source": [
    "### Q12. A researcher wants to know if there are any significant differences in the average daily sales of three retail stores: Store A, Store B, and Store C. They randomly select 30 days and record the sales for each store on those days. Conduct a repeated measures ANOVA using Python to determine if there are any significant differences in sales between the three stores. If the results are significant, follow up with a post- mhoc test to determine which store(s) differ significantly from each other."
   ]
  },
  {
   "cell_type": "code",
   "execution_count": 15,
   "id": "5ecd3bc6",
   "metadata": {},
   "outputs": [
    {
     "name": "stdout",
     "output_type": "stream",
     "text": [
      "F-value: 10.989005926671329\n",
      "P-value: 5.5570740554731366e-05\n",
      "Store A vs. Store B: T-value = 4.03790007782081 P-value = 0.00016026604427958537\n",
      "Store B vs. Store C: T-value = 0.3358683978619827 P-value = 0.7381821096207044\n",
      "Store A vs. Store C: T-value = 4.5263505514580515 P-value = 3.0310289746547467e-05\n"
     ]
    }
   ],
   "source": [
    "import pandas as pd\n",
    "import numpy as np\n",
    "from scipy.stats import f_oneway, ttest_ind\n",
    "\n",
    "# Create a sample dataframe with 30 days of sales data for 3 stores\n",
    "data = {'Store A': [10.2, 11.5, 9.8, 10.6, 12.1, 11.0, 9.9, 10.5, 11.8, 12.5,\n",
    "                    10.6, 11.3, 11.1, 10.9, 11.5, 9.7, 12.0, 11.2, 11.6, 10.4,\n",
    "                    12.4, 10.8, 12.2, 11.4, 10.7, 11.9, 10.3, 9.8, 11.7, 10.1],\n",
    "        'Store B': [8.9, 11.6, 8.6, 9.4, 9.7, 8.8, 9.1, 10.5, 8.9, 9.6,\n",
    "                    9.0, 11.8, 10.2, 12.0, 11.5, 11.3, 10.6, 12.1, 10.7, 11.2,\n",
    "                    11.9, 8.5, 9.2, 8.8, 9.7, 9.1, 8.6, 9.5, 9.9, 8.4],\n",
    "        'Store C': [8.7, 9.8, 9.0, 9.1, 9.4, 10.4, 8.5, 8.9, 9.2, 10.2,\n",
    "                    11.4, 9.9, 10.7, 12.3, 10.3, 12.5, 10.8, 12.1, 11.7, 8.8,\n",
    "                    9.3, 8.7, 9.8, 9.0, 9.1, 9.4, 10.4, 8.5, 8.9, 9.2]}\n",
    "\n",
    "df = pd.DataFrame(data)\n",
    "\n",
    "# Perform the one-way ANOVA\n",
    "fvalue, pvalue = f_oneway(df['Store A'], df['Store B'], df['Store C'])\n",
    "print(\"F-value:\", fvalue)\n",
    "print(\"P-value:\", pvalue)\n",
    "\n",
    "# Perform the post-hoc t-test\n",
    "tvalue_ab, pvalue_ab = ttest_ind(df['Store A'], df['Store B'])\n",
    "tvalue_bc, pvalue_bc = ttest_ind(df['Store B'], df['Store C'])\n",
    "tvalue_ac, pvalue_ac = ttest_ind(df['Store A'], df['Store C'])\n",
    "print(\"Store A vs. Store B: T-value =\", tvalue_ab, \"P-value =\", pvalue_ab)\n",
    "print(\"Store B vs. Store C: T-value =\", tvalue_bc, \"P-value =\", pvalue_bc)\n",
    "print(\"Store A vs. Store C: T-value =\", tvalue_ac, \"P-value =\", pvalue_ac)\n"
   ]
  },
  {
   "cell_type": "code",
   "execution_count": null,
   "id": "e5a9fbb5",
   "metadata": {},
   "outputs": [],
   "source": []
  }
 ],
 "metadata": {
  "kernelspec": {
   "display_name": "Python 3 (ipykernel)",
   "language": "python",
   "name": "python3"
  },
  "language_info": {
   "codemirror_mode": {
    "name": "ipython",
    "version": 3
   },
   "file_extension": ".py",
   "mimetype": "text/x-python",
   "name": "python",
   "nbconvert_exporter": "python",
   "pygments_lexer": "ipython3",
   "version": "3.9.7"
  }
 },
 "nbformat": 4,
 "nbformat_minor": 5
}
